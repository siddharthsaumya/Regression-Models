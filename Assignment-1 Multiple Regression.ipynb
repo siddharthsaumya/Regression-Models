{
 "cells": [
  {
   "cell_type": "markdown",
   "id": "c895832e",
   "metadata": {},
   "source": [
    "### Importing libraries\n",
    "Multiple regression is like linear regression, but with more than one independent value, meaning that we try to predict a value based on two or more variables."
   ]
  },
  {
   "cell_type": "code",
   "execution_count": 5,
   "id": "ab46cad0",
   "metadata": {},
   "outputs": [],
   "source": [
    "import pandas\n",
    "from sklearn import linear_model"
   ]
  },
  {
   "cell_type": "markdown",
   "id": "06699c11",
   "metadata": {},
   "source": [
    "### Importing dataset"
   ]
  },
  {
   "cell_type": "code",
   "execution_count": 6,
   "id": "b65a47f4",
   "metadata": {},
   "outputs": [],
   "source": [
    "url = \"https://raw.githubusercontent.com/siddharthsaumya/csv/main/cars.csv\"\n",
    "df = pandas.read_csv(url)"
   ]
  },
  {
   "cell_type": "markdown",
   "id": "78e8aa84",
   "metadata": {},
   "source": [
    "### Taking dependent and independent variable"
   ]
  },
  {
   "cell_type": "code",
   "execution_count": 7,
   "id": "ba6be078",
   "metadata": {},
   "outputs": [],
   "source": [
    "X = df[['Weight', 'Volume']]\n",
    "y = df['CO2']"
   ]
  },
  {
   "cell_type": "markdown",
   "id": "b16b72e2",
   "metadata": {},
   "source": [
    "### Multiple regression"
   ]
  },
  {
   "cell_type": "code",
   "execution_count": 8,
   "id": "aca5e9c2",
   "metadata": {},
   "outputs": [
    {
     "data": {
      "text/plain": [
       "LinearRegression()"
      ]
     },
     "execution_count": 8,
     "metadata": {},
     "output_type": "execute_result"
    }
   ],
   "source": [
    "regr = linear_model.LinearRegression()\n",
    "regr.fit(X, y)"
   ]
  },
  {
   "cell_type": "markdown",
   "id": "824d4ddf",
   "metadata": {},
   "source": [
    "### Predicting"
   ]
  },
  {
   "cell_type": "code",
   "execution_count": 9,
   "id": "c8a2fe05",
   "metadata": {},
   "outputs": [
    {
     "name": "stdout",
     "output_type": "stream",
     "text": [
      "[107.2087328]\n"
     ]
    }
   ],
   "source": [
    "predictedCO2 = regr.predict([[2300, 1300]])\n",
    "print(predictedCO2)"
   ]
  }
 ],
 "metadata": {
  "kernelspec": {
   "display_name": "Python 3 (ipykernel)",
   "language": "python",
   "name": "python3"
  },
  "language_info": {
   "codemirror_mode": {
    "name": "ipython",
    "version": 3
   },
   "file_extension": ".py",
   "mimetype": "text/x-python",
   "name": "python",
   "nbconvert_exporter": "python",
   "pygments_lexer": "ipython3",
   "version": "3.9.7"
  }
 },
 "nbformat": 4,
 "nbformat_minor": 5
}
